{
 "cells": [
  {
   "cell_type": "code",
   "execution_count": 81,
   "metadata": {},
   "outputs": [],
   "source": [
    "import numpy as np\n",
    "import math\n",
    "import time\n",
    "import itertools"
   ]
  },
  {
   "cell_type": "code",
   "execution_count": 82,
   "metadata": {},
   "outputs": [
    {
     "name": "stdout",
     "output_type": "stream",
     "text": [
      "(20000, 20)\n"
     ]
    }
   ],
   "source": [
    "# a - generate 20,000 vectors with 20 dimensions\n",
    "vectors = np.random.rand(20000, 20)\n",
    "\n",
    "print(vectors.shape)"
   ]
  },
  {
   "cell_type": "code",
   "execution_count": 83,
   "metadata": {},
   "outputs": [
    {
     "name": "stdout",
     "output_type": "stream",
     "text": [
      "Time to calculate gram matrix (in seconds) 3.710495948791504\n",
      "Kernel matrix shape =  (20000, 20000)\n"
     ]
    }
   ],
   "source": [
    "# b - calculate Gram matrix using kernel (x ∙ y + 1)^2\n",
    "\n",
    "start_time = time.time()\n",
    "\n",
    "kernel_matrix = np.square(np.matmul(vectors,vectors.T) + 1)\n",
    "\n",
    "kernel_time = time.time() - start_time\n",
    "\n",
    "print(\"Time to calculate gram matrix (in seconds)\", kernel_time)\n",
    "print(\"Kernel matrix shape = \", kernel_matrix.shape)"
   ]
  },
  {
   "cell_type": "code",
   "execution_count": 84,
   "metadata": {},
   "outputs": [
    {
     "name": "stdout",
     "output_type": "stream",
     "text": [
      "The dimention is =  231\n"
     ]
    }
   ],
   "source": [
    "# c - find mapping function\n",
    "# phi will look like the example we did in recitation:\n",
    "# 1\n",
    "# sqrt(2) * Xi\n",
    "# Xi ^ 2\n",
    "# sqrt(2) * Xi * Xj\n",
    "\n",
    "def calculate_phi_function(x):\n",
    "    singel_x = []\n",
    "    power_x = []\n",
    "    permutation_xi_xj = []\n",
    "    sqrt2 = np.sqrt(2)\n",
    "    \n",
    "    for i in range(len(x) - 1) :\n",
    "        singel_x.append(np.sqrt(2) * x[i])\n",
    "        power_x.append(x[i] ** 2)\n",
    "        \n",
    "        # permutations\n",
    "        for j in range(i + 1, len(x)) :\n",
    "            permutation_xi_xj.append(np.sqrt(2) * x[i] * x[j])\n",
    "    \n",
    "    singel_x.append(x[len(x) - 1] * np.sqrt(2))\n",
    "    power_x.append(x[len(x) - 1] ** 2)\n",
    "            \n",
    "    phi_vector = [1]\n",
    "    phi_vector.extend(singel_x)\n",
    "    phi_vector.extend(power_x)\n",
    "    phi_vector.extend(permutation_xi_xj)\n",
    "    \n",
    "    return phi_vector\n",
    "\n",
    "# according to the formula studied in class the dimantion size is : (n+r)!/n!r! \n",
    "# n = 20, r = 2\n",
    "\n",
    "n = 20\n",
    "r = 2\n",
    "\n",
    "phi_dimention = int(math.factorial(n + r) / (math.factorial(n) * math.factorial(r)))\n",
    "print (\"The dimention is = \", phi_dimention)"
   ]
  },
  {
   "cell_type": "code",
   "execution_count": 85,
   "metadata": {},
   "outputs": [
    {
     "name": "stdout",
     "output_type": "stream",
     "text": [
      "Time to calculate matrix using mapping (in seconds) 8.356311082839966\n",
      "Phi matrix shape =  (20000, 20000)\n"
     ]
    }
   ],
   "source": [
    "# d - using phi to map the vector into higher dimention\n",
    "start_time = time.time()\n",
    "mapping_vectors = []\n",
    "mapping_vectors = np.array([calculate_phi_function(vector) for vector in vectors])\n",
    "\n",
    "# e - calculate matrix \n",
    "phi_matrix = mapping_vectors.dot(mapping_vectors.T)\n",
    "\n",
    "phi_time = time.time() - start_time\n",
    "print(\"Time to calculate matrix using mapping (in seconds)\", phi_time)\n",
    "print(\"Phi matrix shape = \", phi_matrix.shape)"
   ]
  },
  {
   "cell_type": "code",
   "execution_count": 86,
   "metadata": {},
   "outputs": [
    {
     "name": "stdout",
     "output_type": "stream",
     "text": [
      "True\n"
     ]
    }
   ],
   "source": [
    "# f\n",
    "print(np.allclose(kernel_matrix ,phi_matrix))"
   ]
  },
  {
   "cell_type": "code",
   "execution_count": 87,
   "metadata": {},
   "outputs": [
    {
     "name": "stdout",
     "output_type": "stream",
     "text": [
      "Running time using kernel =  3.710495948791504\n",
      "Running time using phi =  8.356311082839966\n"
     ]
    }
   ],
   "source": [
    "print(\"Running time using kernel = \", kernel_time)\n",
    "print(\"Running time using phi = \", phi_time)"
   ]
  },
  {
   "cell_type": "markdown",
   "metadata": {},
   "source": [
    "We can see that the running time using mapping to higher dimention using phi is higher the thr running time using kernel.\n",
    "These results match what we learned in class. As the dimention go higher so as the running time becatuse there are more calculation in a higher dimention."
   ]
  }
 ],
 "metadata": {
  "kernelspec": {
   "display_name": "Python 3",
   "language": "python",
   "name": "python3"
  },
  "language_info": {
   "codemirror_mode": {
    "name": "ipython",
    "version": 3
   },
   "file_extension": ".py",
   "mimetype": "text/x-python",
   "name": "python",
   "nbconvert_exporter": "python",
   "pygments_lexer": "ipython3",
   "version": "3.7.1"
  }
 },
 "nbformat": 4,
 "nbformat_minor": 2
}
